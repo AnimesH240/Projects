{
  "nbformat": 4,
  "nbformat_minor": 0,
  "metadata": {
    "colab": {
      "name": "Untitled5.ipynb",
      "provenance": [],
      "authorship_tag": "ABX9TyM6PXXodnD1ga/3sWtkeKsp",
      "include_colab_link": true
    },
    "kernelspec": {
      "name": "python3",
      "display_name": "Python 3"
    },
    "language_info": {
      "name": "python"
    }
  },
  "cells": [
    {
      "cell_type": "markdown",
      "metadata": {
        "id": "view-in-github",
        "colab_type": "text"
      },
      "source": [
        "<a href=\"https://colab.research.google.com/github/AnimesH240/Projects/blob/master/main.ipynb\" target=\"_parent\"><img src=\"https://colab.research.google.com/assets/colab-badge.svg\" alt=\"Open In Colab\"/></a>"
      ]
    },
    {
      "cell_type": "markdown",
      "source": [
        "Automate an email response system using RPA attaching a DB health report."
      ],
      "metadata": {
        "id": "ThvH0Iz9RUbT"
      }
    },
    {
      "cell_type": "code",
      "source": [
        "pip install mysql-connector"
      ],
      "metadata": {
        "colab": {
          "base_uri": "https://localhost:8080/"
        },
        "id": "6FuzwHSrbKmZ",
        "outputId": "95db8fc6-c635-4bb6-daab-639ae0729b88"
      },
      "execution_count": null,
      "outputs": [
        {
          "output_type": "stream",
          "name": "stdout",
          "text": [
            "Looking in indexes: https://pypi.org/simple, https://us-python.pkg.dev/colab-wheels/public/simple/\n",
            "Collecting mysql-connector\n",
            "  Downloading mysql-connector-2.2.9.tar.gz (11.9 MB)\n",
            "\u001b[K     |████████████████████████████████| 11.9 MB 5.3 MB/s \n",
            "\u001b[?25hBuilding wheels for collected packages: mysql-connector\n",
            "  Building wheel for mysql-connector (setup.py) ... \u001b[?25l\u001b[?25hdone\n",
            "  Created wheel for mysql-connector: filename=mysql_connector-2.2.9-cp37-cp37m-linux_x86_64.whl size=247965 sha256=4054bc9961fdb8a449b47ead6a43dff5cff03bd59ac447bcb988567dd2f19ece\n",
            "  Stored in directory: /root/.cache/pip/wheels/42/2f/c3/692fc7fc1f0d8c06b9175d94f0fc30f4f92348f5df5af1b8b7\n",
            "Successfully built mysql-connector\n",
            "Installing collected packages: mysql-connector\n",
            "Successfully installed mysql-connector-2.2.9\n"
          ]
        }
      ]
    },
    {
      "cell_type": "code",
      "source": [
        "pip install wheel"
      ],
      "metadata": {
        "colab": {
          "base_uri": "https://localhost:8080/"
        },
        "id": "4LqfCpfTbN-L",
        "outputId": "beedba89-3808-421c-c7bc-bac8716dab48"
      },
      "execution_count": null,
      "outputs": [
        {
          "output_type": "stream",
          "name": "stdout",
          "text": [
            "Looking in indexes: https://pypi.org/simple, https://us-python.pkg.dev/colab-wheels/public/simple/\n",
            "Requirement already satisfied: wheel in /usr/local/lib/python3.7/dist-packages (0.37.1)\n"
          ]
        }
      ]
    },
    {
      "cell_type": "code",
      "source": [
        "username = \"audit_user\"\n",
        "password_1 = \"pwd001\"\n",
        "hostname = \"db01-payment\"\n",
        "mycnf = \"/etc/mysql/my.cnf\"\n",
        "audit_name = \"MySQL_Healthcheck_audit_report_\""
      ],
      "metadata": {
        "id": "bCM9EtqBcr19"
      },
      "execution_count": null,
      "outputs": []
    },
    {
      "cell_type": "code",
      "source": [
        "!chmod +x MySQL_Healthcheck.sh\n",
        "!bash MySQL_Healthcheck.sh >> HealthReport.txt"
      ],
      "metadata": {
        "colab": {
          "base_uri": "https://localhost:8080/"
        },
        "id": "fIrFQ4WlhrCT",
        "outputId": "e5b1138a-2faf-4a4b-aef9-43dd3aa88886"
      },
      "execution_count": null,
      "outputs": [
        {
          "output_type": "stream",
          "name": "stdout",
          "text": [
            "bash: MySQL_Healthcheck.s: No such file or directory\n"
          ]
        }
      ]
    },
    {
      "cell_type": "code",
      "source": [
        "import os\n",
        "from email.mime.text import MIMEText\n",
        "from email.mime.image import MIMEImage\n",
        "from email.mime.application import MIMEApplication\n",
        "from email.mime.multipart import MIMEMultipart\n",
        "\n",
        "def message(subject=\"DB health report\", text=\"\", img=None, attachment=None):\n",
        "   msg = MIMEMultipart()\n",
        "   msg['Subject'] = subject\n",
        "   msg.attach(MIMEText(text))\n",
        "\t \n",
        "\twith open('HealthReport.txt', 'rb') as f:\n",
        "\t\tfile = MIMEApplication(f.read())  # read the attachment file\n",
        "\tmsg.attach(file)\n",
        "  return message"
      ],
      "metadata": {
        "id": "C9uKMlEFNpbp"
      },
      "execution_count": null,
      "outputs": []
    },
    {
      "cell_type": "code",
      "source": [
        "import smtplib\n",
        "\n",
        "smtp = smtplib.SMTP('smtp-mail.outlook.com', port='587')\n",
        "\n",
        "smtp.ehlo()\n",
        "smtp.starttls()\n",
        "\n",
        "smtp.login('abc.dsf@outlook.com', 'psswd')\n",
        "smtp.sendmail('abc.dsf@outlook.com',\n",
        "              msg.as_string())\n",
        "              \n",
        "smtp.quit() "
      ],
      "metadata": {
        "id": "whr3H7diqdQn"
      },
      "execution_count": null,
      "outputs": []
    }
  ]
}